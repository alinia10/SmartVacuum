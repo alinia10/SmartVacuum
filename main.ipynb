{
 "cells": [
  {
   "cell_type": "code",
   "execution_count": 1,
   "metadata": {},
   "outputs": [],
   "source": [
    "import random\n",
    "import numpy as np\n",
    "# Constants\n",
    "ROOM_WIDTH = 10\n",
    "ROOM_HEIGHT = 10\n",
    "NUM_ROOMS = 200\n",
    "POPULATION_SIZE = 200\n",
    "GENERATIONS = 1000\n",
    "MUTATION_RATE = 0.000_001\n",
    "BATTERY_CAPACITY = 200\n",
    "MAXSCORE = -np.inf"
   ]
  },
  {
   "cell_type": "code",
   "execution_count": 2,
   "metadata": {},
   "outputs": [],
   "source": [
    "# create random room\n",
    "\n",
    "def room_generator():\n",
    "    return np.random.randint(0, 2, size=(ROOM_HEIGHT, ROOM_WIDTH))\n",
    "\n",
    "# create a func to generate a random secoence of actions\n",
    "def stratogy_generator():\n",
    "    x = np.random.randint(0, 7, size=243).reshape((3, 3, 3, 3, 3))\n",
    "    return x\n"
   ]
  },
  {
   "cell_type": "code",
   "execution_count": 3,
   "metadata": {},
   "outputs": [],
   "source": [
    "\n",
    "def get_view_and_action(matrix, stratogy, x, y):\n",
    "    current = matrix[x, y]\n",
    "    if x == 0:\n",
    "        up = 2\n",
    "    else:\n",
    "        up = matrix[x-1, y]\n",
    "    if x == len(matrix)-1:\n",
    "        down = 2\n",
    "    else:\n",
    "        down = matrix[x+1, y]\n",
    "    if y == 0:\n",
    "        left = 2\n",
    "    else:\n",
    "        left = matrix[x, y-1]\n",
    "    if y == len(matrix[0])-1:\n",
    "        right = 2\n",
    "    else:\n",
    "        right = matrix[x, y+1]\n",
    "    status = (current, up, down, left, right)\n",
    "    action = stratogy[status]\n",
    "    return status, action\n"
   ]
  },
  {
   "cell_type": "code",
   "execution_count": 4,
   "metadata": {},
   "outputs": [],
   "source": [
    "# func to calculate the reward of the action\n",
    "def reward(strategy, matrix, x, y):\n",
    "    status, action = get_view_and_action(matrix, strategy, x, y)\n",
    "    x = status[0]\n",
    "    y = status[1]\n",
    "    if action == 6:\n",
    "        action = np.random.randint(0, 4)\n",
    "    if action == 0:\n",
    "        if y == len(matrix[0])-1:\n",
    "            reward = -5\n",
    "        else:\n",
    "            y += 1\n",
    "            reward = 0\n",
    "    if action == 1:\n",
    "        if y == 0:\n",
    "            reward = -5\n",
    "        else:\n",
    "            y -= 1\n",
    "            reward = 0\n",
    "    if action == 2:\n",
    "        if x == 0:\n",
    "            reward = -5\n",
    "        else:\n",
    "            x -= 1\n",
    "            reward = 0\n",
    "    if action == 3:\n",
    "        if x == len(matrix)-1:\n",
    "            reward = -5\n",
    "        else:\n",
    "            x += 1\n",
    "            reward = 0\n",
    "    if action == 4:\n",
    "        if matrix[x, y] == 1:\n",
    "            matrix[x, y] = 0\n",
    "            reward = 10\n",
    "        else:\n",
    "            reward = -1\n",
    "    if action == 5:\n",
    "        reward = 0\n",
    "\n",
    "    return reward, status\n"
   ]
  },
  {
   "cell_type": "code",
   "execution_count": 5,
   "metadata": {},
   "outputs": [],
   "source": [
    "def total_reward(strategy, matrix):\n",
    "    x = 0\n",
    "    y = 0\n",
    "    total = 0\n",
    "    for _ in range(BATTERY_CAPACITY):\n",
    "        r, s = reward(strategy, matrix, x, y)\n",
    "        total += r\n",
    "        x = s[0]\n",
    "        y = s[1]\n",
    "    return total"
   ]
  },
  {
   "cell_type": "code",
   "execution_count": 6,
   "metadata": {},
   "outputs": [],
   "source": [
    "# create a func to calculate the mean reward of the action_seq on the rooms\n",
    "def mean_reward(strategy, rooms):\n",
    "    total = 0\n",
    "    for room in rooms:\n",
    "        total += total_reward(strategy, room)\n",
    "    return total/len(rooms)"
   ]
  },
  {
   "cell_type": "code",
   "execution_count": 7,
   "metadata": {},
   "outputs": [],
   "source": [
    "# generate pupulation \n",
    "def generate_population():\n",
    "    population = []\n",
    "    for _ in range(POPULATION_SIZE):\n",
    "        population.append(stratogy_generator())\n",
    "    return population\n",
    "# generate rooms\n",
    "def generate_rooms():\n",
    "    rooms = []\n",
    "    for _ in range(NUM_ROOMS):\n",
    "        rooms.append(room_generator())\n",
    "    return rooms    "
   ]
  },
  {
   "cell_type": "code",
   "execution_count": 8,
   "metadata": {},
   "outputs": [],
   "source": [
    "# evaluate the population\n",
    "def evaluate_population(population, rooms):\n",
    "    scores = []\n",
    "    for strategy in population:\n",
    "        score = mean_reward(strategy, rooms)\n",
    "        scores.append(score)\n",
    "    return scores"
   ]
  },
  {
   "cell_type": "code",
   "execution_count": 9,
   "metadata": {},
   "outputs": [],
   "source": [
    "# CONVERT THE SCORES TO PROBABILITIES\n",
    "def scores_to_prob(scores):\n",
    "    zero_based_scores = np.array(scores) - min(scores)\n",
    "    prob = zero_based_scores/sum(zero_based_scores)\n",
    "    return prob"
   ]
  },
  {
   "cell_type": "code",
   "execution_count": 10,
   "metadata": {},
   "outputs": [],
   "source": [
    "# create a func to mutate the children based on the MUTATION_RATE\n",
    "def mutate(children):\n",
    "    for child in children:\n",
    "        for i in range(243):\n",
    "            if np.random.rand() < MUTATION_RATE:\n",
    "                child[i] = np.random.randint(0, 7)\n",
    "    return children\n"
   ]
  },
  {
   "cell_type": "code",
   "execution_count": 11,
   "metadata": {},
   "outputs": [],
   "source": [
    "# SELECT THE PARENTS and create the next generation - sexual reproduction\n",
    "def select_parents(population):\n",
    "    prob = scores_to_prob(evaluate_population(population, generate_rooms()))\n",
    "    children = []\n",
    "    for i in range(POPULATION_SIZE):\n",
    "        k = np.random.randint(0, 243)\n",
    "        # Use the probabilities directly in np.random.choice, solve a must be 1-dimensional error\n",
    "        p1, p2 = np.random.choice(POPULATION_SIZE, size=2, p=prob)\n",
    "        children.append(np.concatenate((population[p1][:k].flatten(), population[p2][k:].flatten())).reshape((3, 3, 3, 3, 3)))\n",
    "\n",
    "    mutate(children)\n",
    "        \n",
    "    return children"
   ]
  },
  {
   "cell_type": "code",
   "execution_count": 19,
   "metadata": {},
   "outputs": [],
   "source": [
    "import time\n",
    "# create a func to get the best strategy with the highest score in the population on number of generations\n",
    "\n",
    "def get_best_strategy():\n",
    "    population = generate_population()\n",
    "    for i in range(GENERATIONS):\n",
    "        t1 = time.time()\n",
    "        print(f\"Generation {i}\")\n",
    "        population = select_parents(population)\n",
    "        if i % 10 == 0:\n",
    "            scores = evaluate_population(population, generate_rooms())\n",
    "            print(scores)\n",
    "            print(f\"Best score: {max(scores)}\",\"\\n mean score: \",np.mean(scores))\n",
    "            best_strategy = population[scores.index(max(scores))]\n",
    "        t2 = time.time()\n",
    "        t_total = 0\n",
    "        t_total += t2-t1\n",
    "        print(f\"Time taken for generation {i}: {t_total}\")\n",
    "    return best_strategy, max(scores)"
   ]
  },
  {
   "cell_type": "code",
   "execution_count": 20,
   "metadata": {},
   "outputs": [
    {
     "name": "stdout",
     "output_type": "stream",
     "text": [
      "Generation 0\n",
      "[-133.775, -64.3, -260.675, -170.775, -447.76, -100.075, -205.73, -157.94, -96.91, -102.135, -36.665, -49.06, -119.145, -89.12, -346.51, -53.81, -118.545, -391.69, -103.63, -38.82, -380.27, -8.925, -545.16, -76.145, -170.665, -108.395, -205.5, -97.4, -409.585, -503.315, -460.095, -235.555, -83.645, -14.3, -1.775, -109.295, -183.525, -0.55, -96.775, -86.16, -67.845, -117.74, -89.925, -202.105, -86.16, -0.525, -158.53, -104.16, -12.24, -67.79, -376.15, -40.925, -169.59, -416.86, -67.715, -235.005, -128.145, -6.55, -99.085, -17.365, -466.985, -231.835, -417.785, -199.685, -118.63, 0.0, -91.36, -484.775, -61.69, -74.36, -402.14, -22.755, -131.155, -17.295, -28.55, -92.7, -29.67, -46.95, -275.475, -74.31, -177.115, -209.35, -207.595, -89.375, -19.655, -107.75, -400.38, -50.32, -119.03, -40.85, 0.0, -40.65, -178.39, -110.565, -199.535, -770.775, -170.895, -402.04, -151.385, -94.76, -497.035, -98.17, -401.71, -177.215, -402.09, -27.795, -199.215, -178.19, -153.02, -33.83, -22.655, -363.485, -135.825, -121.83, -199.76, -110.69, -103.885, -21.89, -100.775, -86.16, -130.905, -274.425, -148.59, -97.65, -447.26, -70.305, -43.05, -21.89, -504.515, -280.065, -111.39, -150.64, -132.08, -231.835, -103.96, -103.935, -76.99, -136.0, -183.425, -111.39, -5.49, -87.99, -131.275, -376.425, -172.44, -401.66, -17.145, -115.765, -416.26, -121.155, -178.49, -163.145, -92.1, -482.785, -126.365, -421.57, -40.75, -133.315, -512.425, -89.8, 0.0, -136.105, -530.405, -235.205, -161.865, -138.7, -474.625, -84.5, -97.425, -161.075, -133.79, -781.825, -42.9, -219.81, -426.725, -98.335, -21.98, -90.48, -466.985, -479.5, -29.745, -14.245, -11.325, -152.51, -463.78, -148.565, -74.335, -143.66, -103.86, -103.96, -137.35, -191.785, -134.325, -132.08, -159.565, -240.505, -82.29, -86.16, -181.185, -112.065]\n",
      "Best score: 0.0 \n",
      " mean score:  -172.5222\n",
      "Generation 1\n",
      "Generation 2\n",
      "Generation 3\n",
      "Generation 4\n",
      "Generation 5\n",
      "Generation 6\n",
      "Generation 7\n",
      "Generation 8\n",
      "Generation 9\n",
      "Generation 10\n",
      "[-80.715, -123.34, -119.94, -84.91, -128.52, -83.02, -60.89, -53.445, -53.22, -53.795, -53.195, -79.09, -81.395, -51.94, -126.96, -53.0, -54.605, -78.745, -69.2, -59.655, -66.325, -88.03, -86.625, -58.445, -69.98, -59.145, -81.725, -35.23, -90.57, -36.035, -56.41, -35.36, -73.695, -55.485, -35.54, -36.03, -46.915, -48.715, -50.86, -35.41, -49.38, -26.61, -51.11, -50.66, -103.61, -103.36, -53.95, -35.88, -51.31, -50.635, -47.915, -103.01, -103.685, -53.0, -97.45, -47.315, -53.325, -87.755, -51.585, -53.9, -51.335, -51.135, -50.485, -26.01, -35.905, -103.41, -50.81, -102.135, -51.085, -51.235, -103.81, -49.14, -103.985, -50.51, -50.81, -48.34, -47.865, -47.59, -26.535, -48.59, -102.935, -71.275, -51.035, -71.475, -96.95, -50.935, -51.435, -46.965, -36.105, -48.215, -36.08, -48.54, -86.385, -50.685, -103.685, -50.835, -52.7, -47.04, -51.485, -71.05, -36.33, -48.24, -51.01, -36.055, -158.18, -50.91, -36.08, -48.805, -35.905, -71.8, -49.915, -48.615, -50.76, -51.385, -97.45, -50.885, -106.265, -103.535, -50.535, -71.575, -88.555, -51.11, -25.86, -51.76, -26.485, -25.21, -84.835, -86.135, -50.71, -102.285, -51.06, -26.01, -51.485, -51.135, -54.275, -54.05, -105.03, -58.74, -117.61, -50.2, -50.525, -1.99, -40.82, -36.945, -83.675, -2.19, -50.9, -35.22, -36.97, -40.82, -23.94, -2.015, -107.145, -80.275, -31.075, -56.815, -1.965, -40.62, -1.665, -23.065, -67.34, -58.09, -40.845, -51.325, -2.44, -94.595, -26.385, -6.5, -6.61, -26.34, -43.14, -41.145, -26.365, -96.695, -65.2, -21.82, -15.11, -58.795, -14.625, -0.765, -0.79, -0.84, -95.25, -0.89, -30.26, -43.68, -22.02, -0.79, -58.845, -43.48, -29.91, -22.535, -22.02, -22.22, -22.245, -59.745, -73.555, -1.065, -0.715, -0.74]\n",
      "Best score: -0.715 \n",
      " mean score:  -54.396100000000004\n",
      "Generation 11\n",
      "Generation 12\n",
      "Generation 13\n",
      "Generation 14\n",
      "Generation 15\n",
      "Generation 16\n"
     ]
    }
   ],
   "source": [
    "best_strategy, max_score = get_best_strategy()"
   ]
  }
 ],
 "metadata": {
  "kernelspec": {
   "display_name": "ml",
   "language": "python",
   "name": "python3"
  },
  "language_info": {
   "codemirror_mode": {
    "name": "ipython",
    "version": 3
   },
   "file_extension": ".py",
   "mimetype": "text/x-python",
   "name": "python",
   "nbconvert_exporter": "python",
   "pygments_lexer": "ipython3",
   "version": "3.11.7"
  }
 },
 "nbformat": 4,
 "nbformat_minor": 2
}
